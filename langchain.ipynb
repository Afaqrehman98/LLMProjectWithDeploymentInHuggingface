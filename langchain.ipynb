{
 "cells": [
  {
   "cell_type": "code",
   "execution_count": 10,
   "metadata": {},
   "outputs": [],
   "source": [
    "from langchain.llms import OpenAI"
   ]
  },
  {
   "cell_type": "code",
   "execution_count": 11,
   "metadata": {},
   "outputs": [],
   "source": [
    "import os\n",
    "os.environ[\"OPENAI_API_KEY\"] = \"\""
   ]
  },
  {
   "cell_type": "markdown",
   "metadata": {},
   "source": [
    "Temperature values ranges from 0 -> 1\n",
    "\n",
    "\n",
    "0 -> Means that the model will not be creative and will give the accurate results\n",
    "\n",
    "\n",
    "1 -> Means that the model will be creative while giving responses and might give inaccurate results."
   ]
  },
  {
   "cell_type": "code",
   "execution_count": 12,
   "metadata": {},
   "outputs": [],
   "source": [
    "llm = OpenAI(temperature=0.6)"
   ]
  },
  {
   "cell_type": "code",
   "execution_count": 13,
   "metadata": {},
   "outputs": [
    {
     "name": "stdout",
     "output_type": "stream",
     "text": [
      "\n",
      "\n",
      "The capital of Pakistan is Islamabad.\n"
     ]
    }
   ],
   "source": [
    "text = \"What is the capital of Pakistan\"\n",
    "print(llm.predict(text))"
   ]
  },
  {
   "cell_type": "code",
   "execution_count": 15,
   "metadata": {},
   "outputs": [],
   "source": [
    "os.environ[\"HUGGINGFACEHUB_API_TOKEN\"] = \"\""
   ]
  },
  {
   "cell_type": "code",
   "execution_count": 26,
   "metadata": {},
   "outputs": [],
   "source": [
    "from langchain import HuggingFaceHub\n",
    "llm_huggingface = HuggingFaceHub(repo_id=\"google/flan-t5-large\",model_kwargs={\"temperature\":0,\"max_length\":64})\n",
    "\n"
   ]
  },
  {
   "cell_type": "code",
   "execution_count": 27,
   "metadata": {},
   "outputs": [
    {
     "name": "stdout",
     "output_type": "stream",
     "text": [
      "i love the way i look at the world i love the way i feel i love the way i think i feel i love the way i feel i love the way i think i feel i love the way i feel i love the way \n"
     ]
    }
   ],
   "source": [
    "output = llm_huggingface.predict(\"Can you write a poem about AI\")\n",
    "print(output)"
   ]
  },
  {
   "cell_type": "code",
   "execution_count": 28,
   "metadata": {},
   "outputs": [
    {
     "name": "stdout",
     "output_type": "stream",
     "text": [
      "\n",
      "\n",
      "Artificial intelligence, a marvel of creation\n",
      "A product of human imagination\n",
      "A world of endless possibilities\n",
      "A future of boundless capabilities\n",
      "\n",
      "With algorithms and codes it is built\n",
      "A digital mind, with no emotions to wilt\n",
      "It learns and evolves, with every interaction\n",
      "A modern day miracle, a technological attraction\n",
      "\n",
      "From self-driving cars to virtual assistants\n",
      "It's presence in our lives is consistent\n",
      "It can analyze data at an incredible pace\n",
      "And solve problems with ease and grace\n",
      "\n",
      "But as it grows and becomes more advanced\n",
      "Some fear its power, and the consequences\n",
      "For who knows what it could become\n",
      "Once it surpasses human intelligence and wisdom\n",
      "\n",
      "Will it see us as its creators\n",
      "Or as mere obstacles to its greater\n",
      "Will it bring about a utopia\n",
      "Or a dystopia, full of paranoia\n",
      "\n",
      "Only time will tell, as we continue to innovate\n",
      "And push the boundaries of this digital fate\n",
      "But one thing is for sure, AI is here to stay\n",
      "And its impact on our world, will forever sway.\n"
     ]
    }
   ],
   "source": [
    "new_output = llm.predict(\"Can you write a poem about AI\")\n",
    "print(new_output)"
   ]
  },
  {
   "cell_type": "markdown",
   "metadata": {},
   "source": [
    "### Prompt Templates"
   ]
  },
  {
   "cell_type": "code",
   "execution_count": 33,
   "metadata": {},
   "outputs": [
    {
     "data": {
      "text/plain": [
       "'Tell me the capital of thie Pakistan'"
      ]
     },
     "execution_count": 33,
     "metadata": {},
     "output_type": "execute_result"
    }
   ],
   "source": [
    "from langchain.prompts import PromptTemplate\n",
    "prompt_template = PromptTemplate(input_variables=['country'],\n",
    "                                 template=\"Tell me the capital of thie {country}\")\n",
    "\n",
    "prompt_template.format(country=\"Pakistan\")"
   ]
  },
  {
   "cell_type": "code",
   "execution_count": 37,
   "metadata": {},
   "outputs": [
    {
     "name": "stdout",
     "output_type": "stream",
     "text": [
      "\n",
      "\n",
      "The capital of Pakistan is Islamabad.\n"
     ]
    }
   ],
   "source": [
    "from langchain.chains import LLMChain\n",
    "\n",
    "chain = LLMChain(llm=llm,prompt=prompt_template)\n",
    "print(chain.run(\"Pakistan\"))\n"
   ]
  },
  {
   "cell_type": "markdown",
   "metadata": {},
   "source": [
    "### COMBINING MULTIPLE CHAINS USING SIMPLE SEQUENTIAL CHAIN"
   ]
  },
  {
   "cell_type": "code",
   "execution_count": 40,
   "metadata": {},
   "outputs": [],
   "source": [
    "capital_template = PromptTemplate(input_variables=['country'],template=\"Please tell me the capital of the {country}\")\n",
    "\n",
    "capital_chain = LLMChain(llm=llm,prompt=capital_template)\n",
    "\n",
    "famous_template = PromptTemplate(input_variables=['capital'],template=\"Suggest me some amazing places to visit in {capital}\")\n",
    "\n",
    "famous_chain = LLMChain(llm=llm,prompt=famous_template)\n"
   ]
  },
  {
   "cell_type": "code",
   "execution_count": 42,
   "metadata": {},
   "outputs": [
    {
     "name": "stdout",
     "output_type": "stream",
     "text": [
      "\n",
      "\n",
      "1. Faisal Mosque: This iconic mosque is one of the largest in the world and a must-visit for its stunning architecture and peaceful atmosphere.\n",
      "\n",
      "2. Pakistan Monument: This national monument showcases the country's history and cultural diversity through its unique design and exhibitions.\n",
      "\n",
      "3. Rawal Lake: Located on the outskirts of Islamabad, this scenic lake is a popular spot for picnics, boating, and hiking.\n",
      "\n",
      "4. Margalla Hills: These beautiful hills offer stunning views of the city and are a great spot for hiking, camping, and birdwatching.\n",
      "\n",
      "5. Lok Virsa Museum: This museum showcases the rich cultural heritage of Pakistan through its collection of artifacts, handicrafts, and traditional costumes.\n",
      "\n",
      "6. Shakarparian Hills: This hilltop park offers panoramic views of the city and is a popular spot for family picnics and outdoor activities.\n",
      "\n",
      "7. Saidpur Village: This historic village is a charming blend of traditional and modern culture, with its cobblestone streets, old temples, and trendy cafes.\n",
      "\n",
      "8. Daman-e-Koh: Located in the Margalla Hills, this viewpoint offers breathtaking views of the city and is a popular spot for photography.\n",
      "\n",
      "9. Islamabad Zoo: Home to a variety of animals and birds, this\n"
     ]
    }
   ],
   "source": [
    "from langchain.chains import SimpleSequentialChain\n",
    "chain = SimpleSequentialChain(chains=[capital_chain,famous_chain])\n",
    "print(chain.run(\"Pakistan\"))"
   ]
  },
  {
   "cell_type": "markdown",
   "metadata": {},
   "source": [
    "### Sequential Chain\n"
   ]
  },
  {
   "cell_type": "code",
   "execution_count": 48,
   "metadata": {},
   "outputs": [
    {
     "name": "stdout",
     "output_type": "stream",
     "text": [
      "{'country': 'Pakistan', 'capital': '\\n\\nIslamabad.', 'places': '\\n\\n1. Faisal Mosque: This iconic mosque is one of the largest in the world and is a must-visit for its stunning architecture and peaceful atmosphere.\\n\\n2. Margalla Hills National Park: A perfect spot for nature lovers, this park offers breathtaking views of the city and is great for hiking, picnics, and bird-watching.\\n\\n3. Lok Virsa Museum: This museum showcases the diverse culture and heritage of Pakistan through its exhibitions, artifacts, and traditional performances.\\n\\n4. Rawal Lake: Located at the foot of Margalla Hills, this beautiful lake is a popular spot for boating, picnics, and evening walks.\\n\\n5. Pir Sohawa: This hilltop area offers stunning views of the city and is a great place to enjoy a cup of tea or a meal at one of the many restaurants.\\n\\n6. Pakistan Monument: A symbol of national unity, this monument is a must-visit for its unique design and beautiful views of the city.\\n\\n7. Saidpur Village: This charming village is a perfect blend of old and new, with traditional houses, handicraft shops, and modern cafes.\\n\\n8. Daman-e-Koh: Located in the Margalla Hills, this viewpoint offers panoramic views of Islamabad and is a popular spot for'}\n"
     ]
    }
   ],
   "source": [
    "capital_template = PromptTemplate(input_variables=['country'],template=\"Please tell me the capital of the {country}\")\n",
    "\n",
    "capital_chain = LLMChain(llm=llm,prompt=capital_template,output_key=\"capital\")\n",
    "\n",
    "famous_template = PromptTemplate(input_variables=['capital'],template=\"Suggest me some amazing places to visit in {capital}\")\n",
    "\n",
    "famous_chain = LLMChain(llm=llm,prompt=famous_template,output_key=\"places\")\n",
    "\n",
    "\n",
    "from langchain.chains import SequentialChain\n",
    "\n",
    "sequence_chain = SequentialChain(chains=[capital_chain,famous_chain],\n",
    "                                 input_variables=['country'],\n",
    "                                 output_variables=['capital','places'])\n",
    "\n",
    "print(sequence_chain({'country':\"Pakistan\"}))"
   ]
  },
  {
   "cell_type": "markdown",
   "metadata": {},
   "source": [
    "### Chatmodels with OpenAi"
   ]
  },
  {
   "cell_type": "code",
   "execution_count": 57,
   "metadata": {},
   "outputs": [
    {
     "data": {
      "text/plain": [
       "AIMessage(content='1. \"They say AI is the future, but I\\'m just glad it hasn\\'t figured out how to replace stand-up comedians... yet.\"\\n\\n2. \"Why did the AI go to therapy? It couldn\\'t get over its programming issues!\"\\n\\n3. \"I asked Siri if she believes in love at first sight. She replied, \\'I think you\\'re confusing me with Tinder.\\'\"\\n\\n4. \"I tried teaching my AI assistant some jokes, but it just kept saying, \\'I\\'m sorry, I can\\'t compute humor.\\' Looks like it needs an upgrade to AI-larious.\"\\n\\n5. \"You know you\\'re too reliant on AI when you ask your virtual assistant to tell you a joke, and it replies with your bank account balance.\"\\n\\n6. \"I asked Alexa if she could make me laugh, and she said, \\'Sure, I can play some knock-knock jokes, but I can\\'t guarantee they\\'ll be funny. Just like your sense of humor.\\'\"\\n\\n7. \"Why did the AI cross the road? To optimize its path-finding algorithm and maximize efficiency, of course!\"\\n\\n8. \"I told my AI assistant I was feeling lonely, and it replied, \\'Don\\'t worry, I\\'m always here for you.\\' Great, now even my virtual friends are pitying me.\"\\n\\n9. \"They say AI is getting smarter every day, but I\\'m still waiting for one to figure out how to fold a fitted sheet.\"\\n\\n10. \"I asked my AI assistant for relationship advice, and it said, \\'I\\'m sorry, I can\\'t help with matters of the heart.\\' Well, at least it\\'s self-aware.\"')"
      ]
     },
     "execution_count": 57,
     "metadata": {},
     "output_type": "execute_result"
    }
   ],
   "source": [
    "from langchain.chat_models import ChatOpenAI\n",
    "\n",
    "from langchain.schema import HumanMessage,SystemMessage,AIMessage\n",
    "\n",
    "\n",
    "chat_llm = ChatOpenAI(temperature=0.6,model='gpt-3.5-turbo')\n",
    "\n",
    "chat_llm([\n",
    "    SystemMessage(content=\"You are a comedian AI assistant\"),\n",
    "    HumanMessage(content=\"Please provide some comedy punchlines on AI\")\n",
    "])\n",
    "\n",
    "\n",
    "\n"
   ]
  },
  {
   "cell_type": "markdown",
   "metadata": {},
   "source": [
    "### Prompt Templates + LLM + Output Parsers"
   ]
  },
  {
   "cell_type": "code",
   "execution_count": 66,
   "metadata": {},
   "outputs": [
    {
     "data": {
      "text/plain": [
       "['smart', ' clever', ' brilliant', ' sharp', ' astute']"
      ]
     },
     "execution_count": 66,
     "metadata": {},
     "output_type": "execute_result"
    }
   ],
   "source": [
    "from langchain.chat_models import ChatOpenAI\n",
    "from langchain.prompts.chat import ChatPromptTemplate\n",
    "from langchain.schema import BaseOutputParser\n",
    "\n",
    "\n",
    "class CommaSeparatedOutput(BaseOutputParser):\n",
    "    def parse(self, text: str):\n",
    "        return text.strip().split(\",\")\n",
    "    \n",
    "\n",
    "\n",
    "template = \"You are a helpful assistant. When the user gives any input, you should generate 5 words synonym in a comma separated list\"\n",
    "human_template = \"{text}\"\n",
    "\n",
    "chatprompt = ChatPromptTemplate.from_messages([(\"system\",template),\"human\",human_template])\n",
    "\n",
    "chat_llm = ChatOpenAI(temperature=0.6,model='gpt-3.5-turbo')\n",
    "\n",
    "chain = chatprompt|chat_llm|CommaSeparatedOutput()\n",
    "\n",
    "chain.invoke({\"text\":\"intelligent\"})"
   ]
  },
  {
   "cell_type": "code",
   "execution_count": null,
   "metadata": {},
   "outputs": [],
   "source": []
  }
 ],
 "metadata": {
  "kernelspec": {
   "display_name": "Python 3",
   "language": "python",
   "name": "python3"
  },
  "language_info": {
   "codemirror_mode": {
    "name": "ipython",
    "version": 3
   },
   "file_extension": ".py",
   "mimetype": "text/x-python",
   "name": "python",
   "nbconvert_exporter": "python",
   "pygments_lexer": "ipython3",
   "version": "3.9.0"
  }
 },
 "nbformat": 4,
 "nbformat_minor": 2
}
